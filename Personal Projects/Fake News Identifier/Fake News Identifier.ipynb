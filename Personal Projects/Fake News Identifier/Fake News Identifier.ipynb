{
 "cells": [
  {
   "cell_type": "markdown",
   "id": "7c4cea67-2c89-42d8-9386-e193cd2d2d60",
   "metadata": {},
   "source": [
    "Fake News Identifier\n",
    "\n",
    "Created by: Daniel Starer\n",
    "\n",
    "Created: 9/17/2025\n",
    "\n",
    "Updated:"
   ]
  },
  {
   "cell_type": "markdown",
   "id": "00f8172a-7e74-4594-87e5-13c46cb7bed1",
   "metadata": {},
   "source": [
    "This project uses the Fake News dataset from Kagle compiled by Aleksei Golovin.  This aim of this project is to use Python and Natural Language Processing (NLP) to identify if an article is fake news or real news."
   ]
  },
  {
   "cell_type": "code",
   "execution_count": 11,
   "id": "1ad1e2af-9649-4eca-814e-6687a307f1f2",
   "metadata": {},
   "outputs": [],
   "source": [
    "import numpy as np\n",
    "import pandas as pd\n",
    "import matplotlib.pyplot as plt"
   ]
  },
  {
   "cell_type": "markdown",
   "id": "6a82c42d-a76e-4391-90a2-3be1b3694acd",
   "metadata": {},
   "source": [
    "We will initialize the dataset as News_Sources."
   ]
  },
  {
   "cell_type": "code",
   "execution_count": 7,
   "id": "5dc125e3-38ac-47e0-871d-96ad4dfb9d6f",
   "metadata": {},
   "outputs": [],
   "source": [
    "News_Sources = pd.read_csv('FakeNewsNet.csv')"
   ]
  },
  {
   "cell_type": "code",
   "execution_count": 8,
   "id": "7f59b740-5bb7-4805-ae3d-d844d1557458",
   "metadata": {},
   "outputs": [
    {
     "data": {
      "text/html": [
       "<div>\n",
       "<style scoped>\n",
       "    .dataframe tbody tr th:only-of-type {\n",
       "        vertical-align: middle;\n",
       "    }\n",
       "\n",
       "    .dataframe tbody tr th {\n",
       "        vertical-align: top;\n",
       "    }\n",
       "\n",
       "    .dataframe thead th {\n",
       "        text-align: right;\n",
       "    }\n",
       "</style>\n",
       "<table border=\"1\" class=\"dataframe\">\n",
       "  <thead>\n",
       "    <tr style=\"text-align: right;\">\n",
       "      <th></th>\n",
       "      <th>title</th>\n",
       "      <th>news_url</th>\n",
       "      <th>source_domain</th>\n",
       "      <th>tweet_num</th>\n",
       "      <th>real</th>\n",
       "    </tr>\n",
       "  </thead>\n",
       "  <tbody>\n",
       "    <tr>\n",
       "      <th>0</th>\n",
       "      <td>Kandi Burruss Explodes Over Rape Accusation on...</td>\n",
       "      <td>http://toofab.com/2017/05/08/real-housewives-a...</td>\n",
       "      <td>toofab.com</td>\n",
       "      <td>42</td>\n",
       "      <td>1</td>\n",
       "    </tr>\n",
       "    <tr>\n",
       "      <th>1</th>\n",
       "      <td>People's Choice Awards 2018: The best red carp...</td>\n",
       "      <td>https://www.today.com/style/see-people-s-choic...</td>\n",
       "      <td>www.today.com</td>\n",
       "      <td>0</td>\n",
       "      <td>1</td>\n",
       "    </tr>\n",
       "    <tr>\n",
       "      <th>2</th>\n",
       "      <td>Sophia Bush Sends Sweet Birthday Message to 'O...</td>\n",
       "      <td>https://www.etonline.com/news/220806_sophia_bu...</td>\n",
       "      <td>www.etonline.com</td>\n",
       "      <td>63</td>\n",
       "      <td>1</td>\n",
       "    </tr>\n",
       "    <tr>\n",
       "      <th>3</th>\n",
       "      <td>Colombian singer Maluma sparks rumours of inap...</td>\n",
       "      <td>https://www.dailymail.co.uk/news/article-33655...</td>\n",
       "      <td>www.dailymail.co.uk</td>\n",
       "      <td>20</td>\n",
       "      <td>1</td>\n",
       "    </tr>\n",
       "    <tr>\n",
       "      <th>4</th>\n",
       "      <td>Gossip Girl 10 Years Later: How Upper East Sid...</td>\n",
       "      <td>https://www.zerchoo.com/entertainment/gossip-g...</td>\n",
       "      <td>www.zerchoo.com</td>\n",
       "      <td>38</td>\n",
       "      <td>1</td>\n",
       "    </tr>\n",
       "  </tbody>\n",
       "</table>\n",
       "</div>"
      ],
      "text/plain": [
       "                                               title  \\\n",
       "0  Kandi Burruss Explodes Over Rape Accusation on...   \n",
       "1  People's Choice Awards 2018: The best red carp...   \n",
       "2  Sophia Bush Sends Sweet Birthday Message to 'O...   \n",
       "3  Colombian singer Maluma sparks rumours of inap...   \n",
       "4  Gossip Girl 10 Years Later: How Upper East Sid...   \n",
       "\n",
       "                                            news_url        source_domain  \\\n",
       "0  http://toofab.com/2017/05/08/real-housewives-a...           toofab.com   \n",
       "1  https://www.today.com/style/see-people-s-choic...        www.today.com   \n",
       "2  https://www.etonline.com/news/220806_sophia_bu...     www.etonline.com   \n",
       "3  https://www.dailymail.co.uk/news/article-33655...  www.dailymail.co.uk   \n",
       "4  https://www.zerchoo.com/entertainment/gossip-g...      www.zerchoo.com   \n",
       "\n",
       "   tweet_num  real  \n",
       "0         42     1  \n",
       "1          0     1  \n",
       "2         63     1  \n",
       "3         20     1  \n",
       "4         38     1  "
      ]
     },
     "execution_count": 8,
     "metadata": {},
     "output_type": "execute_result"
    }
   ],
   "source": [
    "News_Sources.head()"
   ]
  },
  {
   "cell_type": "markdown",
   "id": "75893a4d-2ece-461f-b567-662697024aa9",
   "metadata": {},
   "source": [
    "Since the data already has a real/fake column, we won't need to create one ourselves.  We can just move on to visualization of articles flagged as real(1) and fake(0)."
   ]
  },
  {
   "cell_type": "code",
   "execution_count": 13,
   "id": "c2cbe06a-8224-4bcb-a242-88e6dc45e39c",
   "metadata": {},
   "outputs": [
    {
     "data": {
      "image/png": "[encoded data removed]",
      "text/plain": [
       "<Figure size 640x480 with 1 Axes>"
      ]
     },
     "metadata": {},
     "output_type": "display_data"
    }
   ],
   "source": [
    "df = News_Sources\n",
    "tfcounter = df['real'].value_counts()\n",
    "plt.bar(tfcounter.index, tfcounter.values, color=['red', 'blue'])\n",
    "plt.ylabel('Total real/fake')\n",
    "plt.title('Distribution of Real and Fake News Titles')\n",
    "plt.xticks([0,1], ['Fake', 'Real'])\n",
    "plt.show()"
   ]
  },
  {
   "cell_type": "markdown",
   "id": "83c585e4-da50-4b7e-b30c-4a6c4a28cf4d",
   "metadata": {},
   "source": [
    "From the prepared dataset, we can see that there are around 6,000 fake news titles and a little less than 17,500 real news titles.  Of course, we can't simply assume that the articles were correctly identified based off of the 'real' column.  We will use NLP to parse the text of the article titles to identify what articles are fake or not with Machine Learning."
   ]
  },
  {
   "cell_type": "markdown",
   "id": "fa90d0c3-69ea-4253-a21e-5333453dca8a",
   "metadata": {},
   "source": [
    "First, let's do a little preprocessing to get rid of unwanted characters and strings that may interfere with the result."
   ]
  },
  {
   "cell_type": "code",
   "execution_count": 24,
   "id": "ce84e815-e272-45f3-9a53-b4ffa98d4acb",
   "metadata": {},
   "outputs": [],
   "source": [
    "import re\n",
    "import string\n",
    "import sklearn\n",
    "def preprocess_text(text):\n",
    "    text = text.lower()\n",
    "    text = re.sub(r'\\[.*?\\]|\\W|https?://\\S+|www\\.\\S+|<.*?>+|\\n|\\w*\\d\\w*', '', title)\n",
    "    return text\n",
    "    df[\"title\"] = df[\"title\"].apply(preprocess_text)"
   ]
  },
  {
   "cell_type": "code",
   "execution_count": 20,
   "id": "1e0df8ea-43b2-4ab3-8db4-7c9e65c0b043",
   "metadata": {},
   "outputs": [],
   "source": [
    "x = df[\"title\"]\n",
    "y = df[\"real\"]"
   ]
  },
  {
   "cell_type": "code",
   "execution_count": 28,
   "id": "432a6382-73e9-4b42-8d16-f33eda166fc8",
   "metadata": {},
   "outputs": [],
   "source": [
    "from sklearn.model_selection import train_test_split\n",
    "x_train, x_test, y_train, y_test = train_test_split(x, y, test_size = 0.20)"
   ]
  },
  {
   "cell_type": "code",
   "execution_count": 30,
   "id": "927f1293-282f-466c-8d15-eda2f69d8afd",
   "metadata": {},
   "outputs": [
    {
     "name": "stdout",
     "output_type": "stream",
     "text": [
      "              precision    recall  f1-score   support\n",
      "\n",
      "           0       0.81      0.48      0.60      1084\n",
      "           1       0.86      0.96      0.91      3556\n",
      "\n",
      "    accuracy                           0.85      4640\n",
      "   macro avg       0.83      0.72      0.76      4640\n",
      "weighted avg       0.85      0.85      0.84      4640\n",
      "\n"
     ]
    },
    {
     "data": {
      "text/plain": [
       "0.8521551724137931"
      ]
     },
     "execution_count": 30,
     "metadata": {},
     "output_type": "execute_result"
    }
   ],
   "source": [
    "from sklearn.feature_extraction.text import TfidfVectorizer\n",
    "vectorization = TfidfVectorizer()\n",
    "xv_train = vectorization.fit_transform(x_train)\n",
    "xv_test = vectorization.transform(x_test)\n",
    "from sklearn.linear_model import LogisticRegression\n",
    "logr = LogisticRegression()\n",
    "logr.fit(xv_train,y_train)\n",
    "pred_logr = logr.predict(xv_test)\n",
    "from sklearn.metrics import classification_report\n",
    "print(classification_report(y_test, pred_logr))\n",
    "from sklearn.metrics import accuracy_score\n",
    "accuracy_score(y_test, pred_logr)"
   ]
  },
  {
   "cell_type": "markdown",
   "id": "5261198f-f46e-4b8c-89a8-6f8db1d9d979",
   "metadata": {},
   "source": [
    "Precision is our accuracy in correctly predicting positive observations.  Here, 81% are correctly predicted as fake news and 86% are correctly predicted as real.  So there is about a 19% chance of false positive fake news sources and a 14% chance of false positive real news sources.  Recall shows how many potential instances of false negatives there are.  There is a 52% chance of false negative fake news sources, meaning 52% of all fake news likely to be reported in the future may be falsely flagged as real if future entries in the dataset follow the trends in titles in this data.  Only 4% of real news is likely to be flagged as fake.  Notably the F1-score for fake news being 60% indicates a not very good balance of precision and recall.  This may be because as we could see in the bar graph above, the distribution of news is more skewed towards real news.  If there were more fake news titles, we might see better precision and recall for fake news."
   ]
  },
  {
   "cell_type": "code",
   "execution_count": 39,
   "id": "eebe11fa-e13f-4cb2-a09a-f34341057e9a",
   "metadata": {},
   "outputs": [
    {
     "name": "stdout",
     "output_type": "stream",
     "text": [
      "              precision    recall  f1-score   support\n",
      "\n",
      "           0       0.73      0.46      0.57      1131\n",
      "           1       0.85      0.94      0.89      3509\n",
      "\n",
      "    accuracy                           0.83      4640\n",
      "   macro avg       0.79      0.70      0.73      4640\n",
      "weighted avg       0.82      0.83      0.81      4640\n",
      "\n"
     ]
    },
    {
     "data": {
      "text/plain": [
       "0.8273706896551725"
      ]
     },
     "execution_count": 39,
     "metadata": {},
     "output_type": "execute_result"
    }
   ],
   "source": [
    "from sklearn.ensemble import RandomForestClassifier\n",
    "x_train, x_test, y_train, y_test = train_test_split(x, y, test_size=0.2, random_state=42)\n",
    "from sklearn.feature_extraction.text import TfidfVectorizer\n",
    "vectorization = TfidfVectorizer()\n",
    "xv_train = vectorization.fit_transform(x_train)\n",
    "xv_test = vectorization.transform(x_test)\n",
    "rf = RandomForestClassifier(n_estimators=100, random_state=42)\n",
    "rf.fit(xv_train,y_train)\n",
    "pred_rf = rf.predict(xv_test)\n",
    "from sklearn.metrics import classification_report\n",
    "print(classification_report(y_test, pred_rf))\n",
    "from sklearn.metrics import accuracy_score\n",
    "accuracy_score(y_test, pred_rf)"
   ]
  },
  {
   "cell_type": "markdown",
   "id": "2c7bb654-4bc3-4db6-bada-901d6a0146c7",
   "metadata": {},
   "source": [
    "Just to check another statistical modeling method, I tried a Random Forest Method, which wasn't much better.  It actually perfored worse than the Logistic Regression method we tried before."
   ]
  },
  {
   "cell_type": "code",
   "execution_count": 41,
   "id": "20dc2b83-c680-48b8-b058-15c40de50611",
   "metadata": {},
   "outputs": [
    {
     "name": "stdout",
     "output_type": "stream",
     "text": [
      "              precision    recall  f1-score   support\n",
      "\n",
      "           0       0.67      0.15      0.25      1131\n",
      "           1       0.78      0.98      0.87      3509\n",
      "\n",
      "    accuracy                           0.77      4640\n",
      "   macro avg       0.73      0.56      0.56      4640\n",
      "weighted avg       0.75      0.77      0.72      4640\n",
      "\n"
     ]
    },
    {
     "data": {
      "text/plain": [
       "0.7747844827586207"
      ]
     },
     "execution_count": 41,
     "metadata": {},
     "output_type": "execute_result"
    }
   ],
   "source": [
    "from sklearn.tree import DecisionTreeClassifier\n",
    "x_train, x_test, y_train, y_test = train_test_split(x, y, test_size=0.2, random_state=42)\n",
    "from sklearn.feature_extraction.text import TfidfVectorizer\n",
    "vectorization = TfidfVectorizer()\n",
    "xv_train = vectorization.fit_transform(x_train)\n",
    "xv_test = vectorization.transform(x_test)\n",
    "dect = DecisionTreeClassifier(max_depth=3, random_state=42)\n",
    "dect.fit(xv_train,y_train)\n",
    "pred_dect = dect.predict(xv_test)\n",
    "from sklearn.metrics import classification_report\n",
    "print(classification_report(y_test, pred_dect))\n",
    "from sklearn.metrics import accuracy_score\n",
    "accuracy_score(y_test, pred_dect)"
   ]
  },
  {
   "cell_type": "markdown",
   "id": "27257d2c-424a-4044-9662-98b03e33d59e",
   "metadata": {},
   "source": [
    "A Classification/Decision Tree model also produced worse results."
   ]
  },
  {
   "cell_type": "markdown",
   "id": "0f60b44d-2b95-4f36-9569-0d250a058027",
   "metadata": {},
   "source": [
    "In conclusion, this dataset is not ideal for identifying fake news.  If you were to use any of these models we created for this, you would find a lot of fake news would be misidentified as real and people would be exposed to fake news titles more often."
   ]
  },
  {
   "cell_type": "code",
   "execution_count": null,
   "id": "df3937bd-daf4-4b3c-8f0b-911ac58b2ca9",
   "metadata": {},
   "outputs": [],
   "source": []
  }
 ],
 "metadata": {
  "kernelspec": {
   "display_name": "Python 3 (ipykernel)",
   "language": "python",
   "name": "python3"
  },
  "language_info": {
   "codemirror_mode": {
    "name": "ipython",
    "version": 3
   },
   "file_extension": ".py",
   "mimetype": "text/x-python",
   "name": "python",
   "nbconvert_exporter": "python",
   "pygments_lexer": "ipython3",
   "version": "3.13.7"
  }
 },
 "nbformat": 4,
 "nbformat_minor": 5
}
